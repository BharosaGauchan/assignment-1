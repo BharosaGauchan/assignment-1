{
 "cells": [
  {
   "cell_type": "markdown",
   "id": "ba666267",
   "metadata": {},
   "source": [
    "# Assignment 1.1"
   ]
  },
  {
   "cell_type": "markdown",
   "id": "dd574fbc",
   "metadata": {},
   "source": [
    "## RMSE"
   ]
  },
  {
   "cell_type": "code",
   "execution_count": 3,
   "id": "c61dec4b",
   "metadata": {},
   "outputs": [],
   "source": [
    "import numpy as np\n",
    "import pandas as pd"
   ]
  },
  {
   "cell_type": "code",
   "execution_count": 4,
   "id": "e1b2ed68",
   "metadata": {},
   "outputs": [
    {
     "data": {
      "text/html": [
       "<div>\n",
       "<style scoped>\n",
       "    .dataframe tbody tr th:only-of-type {\n",
       "        vertical-align: middle;\n",
       "    }\n",
       "\n",
       "    .dataframe tbody tr th {\n",
       "        vertical-align: top;\n",
       "    }\n",
       "\n",
       "    .dataframe thead th {\n",
       "        text-align: right;\n",
       "    }\n",
       "</style>\n",
       "<table border=\"1\" class=\"dataframe\">\n",
       "  <thead>\n",
       "    <tr style=\"text-align: right;\">\n",
       "      <th></th>\n",
       "      <th>sqft</th>\n",
       "      <th>sale_price</th>\n",
       "      <th>sale_price_pred</th>\n",
       "    </tr>\n",
       "  </thead>\n",
       "  <tbody>\n",
       "    <tr>\n",
       "      <th>0</th>\n",
       "      <td>2416</td>\n",
       "      <td>208500</td>\n",
       "      <td>215635.4687</td>\n",
       "    </tr>\n",
       "    <tr>\n",
       "      <th>1</th>\n",
       "      <td>2240</td>\n",
       "      <td>181500</td>\n",
       "      <td>202432.1633</td>\n",
       "    </tr>\n",
       "    <tr>\n",
       "      <th>2</th>\n",
       "      <td>2272</td>\n",
       "      <td>223500</td>\n",
       "      <td>204832.7643</td>\n",
       "    </tr>\n",
       "    <tr>\n",
       "      <th>3</th>\n",
       "      <td>1933</td>\n",
       "      <td>140000</td>\n",
       "      <td>179401.3976</td>\n",
       "    </tr>\n",
       "    <tr>\n",
       "      <th>4</th>\n",
       "      <td>2853</td>\n",
       "      <td>250000</td>\n",
       "      <td>248418.6758</td>\n",
       "    </tr>\n",
       "    <tr>\n",
       "      <th>...</th>\n",
       "      <td>...</td>\n",
       "      <td>...</td>\n",
       "      <td>...</td>\n",
       "    </tr>\n",
       "    <tr>\n",
       "      <th>1455</th>\n",
       "      <td>1647</td>\n",
       "      <td>175000</td>\n",
       "      <td>157946.0263</td>\n",
       "    </tr>\n",
       "    <tr>\n",
       "      <th>1456</th>\n",
       "      <td>2863</td>\n",
       "      <td>210000</td>\n",
       "      <td>249168.8636</td>\n",
       "    </tr>\n",
       "    <tr>\n",
       "      <th>1457</th>\n",
       "      <td>2615</td>\n",
       "      <td>266500</td>\n",
       "      <td>230564.2060</td>\n",
       "    </tr>\n",
       "    <tr>\n",
       "      <th>1458</th>\n",
       "      <td>1127</td>\n",
       "      <td>142125</td>\n",
       "      <td>118936.2604</td>\n",
       "    </tr>\n",
       "    <tr>\n",
       "      <th>1459</th>\n",
       "      <td>2086</td>\n",
       "      <td>147500</td>\n",
       "      <td>190879.2710</td>\n",
       "    </tr>\n",
       "  </tbody>\n",
       "</table>\n",
       "<p>1460 rows × 3 columns</p>\n",
       "</div>"
      ],
      "text/plain": [
       "      sqft  sale_price  sale_price_pred\n",
       "0     2416      208500      215635.4687\n",
       "1     2240      181500      202432.1633\n",
       "2     2272      223500      204832.7643\n",
       "3     1933      140000      179401.3976\n",
       "4     2853      250000      248418.6758\n",
       "...    ...         ...              ...\n",
       "1455  1647      175000      157946.0263\n",
       "1456  2863      210000      249168.8636\n",
       "1457  2615      266500      230564.2060\n",
       "1458  1127      142125      118936.2604\n",
       "1459  2086      147500      190879.2710\n",
       "\n",
       "[1460 rows x 3 columns]"
      ]
     },
     "execution_count": 4,
     "metadata": {},
     "output_type": "execute_result"
    }
   ],
   "source": [
    "df = pd.read_csv(r\"C:\\Users\\bharo\\OneDrive\\Documents\\housing_data.csv\")\n",
    "df"
   ]
  },
  {
   "cell_type": "code",
   "execution_count": 7,
   "id": "f936219d",
   "metadata": {},
   "outputs": [
    {
     "name": "stdout",
     "output_type": "stream",
     "text": [
      "Input actuals numbers1 2 3 4\n",
      "Input equal number of predicted numbers2 3 4 5\n",
      "\n",
      "Actual value: [1. 2. 3. 4.]\n",
      "Predicted value: [2. 3. 4. 5.] \n",
      "\n",
      "RMSE: 1.0\n"
     ]
    },
    {
     "ename": "KeyError",
     "evalue": "'Actual'",
     "output_type": "error",
     "traceback": [
      "\u001b[1;31m---------------------------------------------------------------------------\u001b[0m",
      "\u001b[1;31mKeyError\u001b[0m                                  Traceback (most recent call last)",
      "\u001b[1;32m~\\anaconda3\\lib\\site-packages\\pandas\\core\\indexes\\base.py\u001b[0m in \u001b[0;36mget_loc\u001b[1;34m(self, key, method, tolerance)\u001b[0m\n\u001b[0;32m   3628\u001b[0m             \u001b[1;32mtry\u001b[0m\u001b[1;33m:\u001b[0m\u001b[1;33m\u001b[0m\u001b[1;33m\u001b[0m\u001b[0m\n\u001b[1;32m-> 3629\u001b[1;33m                 \u001b[1;32mreturn\u001b[0m \u001b[0mself\u001b[0m\u001b[1;33m.\u001b[0m\u001b[0m_engine\u001b[0m\u001b[1;33m.\u001b[0m\u001b[0mget_loc\u001b[0m\u001b[1;33m(\u001b[0m\u001b[0mcasted_key\u001b[0m\u001b[1;33m)\u001b[0m\u001b[1;33m\u001b[0m\u001b[1;33m\u001b[0m\u001b[0m\n\u001b[0m\u001b[0;32m   3630\u001b[0m             \u001b[1;32mexcept\u001b[0m \u001b[0mKeyError\u001b[0m \u001b[1;32mas\u001b[0m \u001b[0merr\u001b[0m\u001b[1;33m:\u001b[0m\u001b[1;33m\u001b[0m\u001b[1;33m\u001b[0m\u001b[0m\n",
      "\u001b[1;32m~\\anaconda3\\lib\\site-packages\\pandas\\_libs\\index.pyx\u001b[0m in \u001b[0;36mpandas._libs.index.IndexEngine.get_loc\u001b[1;34m()\u001b[0m\n",
      "\u001b[1;32m~\\anaconda3\\lib\\site-packages\\pandas\\_libs\\index.pyx\u001b[0m in \u001b[0;36mpandas._libs.index.IndexEngine.get_loc\u001b[1;34m()\u001b[0m\n",
      "\u001b[1;32mpandas\\_libs\\hashtable_class_helper.pxi\u001b[0m in \u001b[0;36mpandas._libs.hashtable.PyObjectHashTable.get_item\u001b[1;34m()\u001b[0m\n",
      "\u001b[1;32mpandas\\_libs\\hashtable_class_helper.pxi\u001b[0m in \u001b[0;36mpandas._libs.hashtable.PyObjectHashTable.get_item\u001b[1;34m()\u001b[0m\n",
      "\u001b[1;31mKeyError\u001b[0m: 'Actual'",
      "\nThe above exception was the direct cause of the following exception:\n",
      "\u001b[1;31mKeyError\u001b[0m                                  Traceback (most recent call last)",
      "\u001b[1;32m~\\AppData\\Local\\Temp\\ipykernel_8184\\1469977351.py\u001b[0m in \u001b[0;36m<module>\u001b[1;34m\u001b[0m\n\u001b[0;32m     35\u001b[0m \u001b[1;33m\u001b[0m\u001b[0m\n\u001b[0;32m     36\u001b[0m \u001b[1;33m\u001b[0m\u001b[0m\n\u001b[1;32m---> 37\u001b[1;33m \u001b[0mhome_actuals\u001b[0m \u001b[1;33m=\u001b[0m \u001b[0mdf\u001b[0m\u001b[1;33m[\u001b[0m\u001b[1;34m'Actual'\u001b[0m\u001b[1;33m]\u001b[0m\u001b[1;33m.\u001b[0m\u001b[0mto_numpy\u001b[0m\u001b[1;33m(\u001b[0m\u001b[1;33m)\u001b[0m\u001b[1;33m\u001b[0m\u001b[1;33m\u001b[0m\u001b[0m\n\u001b[0m\u001b[0;32m     38\u001b[0m \u001b[0mhome_predicted\u001b[0m \u001b[1;33m=\u001b[0m \u001b[0mdf\u001b[0m\u001b[1;33m[\u001b[0m\u001b[1;34m'Predicted'\u001b[0m\u001b[1;33m]\u001b[0m\u001b[1;33m.\u001b[0m\u001b[0mto_numpy\u001b[0m\u001b[1;33m(\u001b[0m\u001b[1;33m)\u001b[0m\u001b[1;33m\u001b[0m\u001b[1;33m\u001b[0m\u001b[0m\n\u001b[0;32m     39\u001b[0m \u001b[1;33m\u001b[0m\u001b[0m\n",
      "\u001b[1;32m~\\anaconda3\\lib\\site-packages\\pandas\\core\\frame.py\u001b[0m in \u001b[0;36m__getitem__\u001b[1;34m(self, key)\u001b[0m\n\u001b[0;32m   3503\u001b[0m             \u001b[1;32mif\u001b[0m \u001b[0mself\u001b[0m\u001b[1;33m.\u001b[0m\u001b[0mcolumns\u001b[0m\u001b[1;33m.\u001b[0m\u001b[0mnlevels\u001b[0m \u001b[1;33m>\u001b[0m \u001b[1;36m1\u001b[0m\u001b[1;33m:\u001b[0m\u001b[1;33m\u001b[0m\u001b[1;33m\u001b[0m\u001b[0m\n\u001b[0;32m   3504\u001b[0m                 \u001b[1;32mreturn\u001b[0m \u001b[0mself\u001b[0m\u001b[1;33m.\u001b[0m\u001b[0m_getitem_multilevel\u001b[0m\u001b[1;33m(\u001b[0m\u001b[0mkey\u001b[0m\u001b[1;33m)\u001b[0m\u001b[1;33m\u001b[0m\u001b[1;33m\u001b[0m\u001b[0m\n\u001b[1;32m-> 3505\u001b[1;33m             \u001b[0mindexer\u001b[0m \u001b[1;33m=\u001b[0m \u001b[0mself\u001b[0m\u001b[1;33m.\u001b[0m\u001b[0mcolumns\u001b[0m\u001b[1;33m.\u001b[0m\u001b[0mget_loc\u001b[0m\u001b[1;33m(\u001b[0m\u001b[0mkey\u001b[0m\u001b[1;33m)\u001b[0m\u001b[1;33m\u001b[0m\u001b[1;33m\u001b[0m\u001b[0m\n\u001b[0m\u001b[0;32m   3506\u001b[0m             \u001b[1;32mif\u001b[0m \u001b[0mis_integer\u001b[0m\u001b[1;33m(\u001b[0m\u001b[0mindexer\u001b[0m\u001b[1;33m)\u001b[0m\u001b[1;33m:\u001b[0m\u001b[1;33m\u001b[0m\u001b[1;33m\u001b[0m\u001b[0m\n\u001b[0;32m   3507\u001b[0m                 \u001b[0mindexer\u001b[0m \u001b[1;33m=\u001b[0m \u001b[1;33m[\u001b[0m\u001b[0mindexer\u001b[0m\u001b[1;33m]\u001b[0m\u001b[1;33m\u001b[0m\u001b[1;33m\u001b[0m\u001b[0m\n",
      "\u001b[1;32m~\\anaconda3\\lib\\site-packages\\pandas\\core\\indexes\\base.py\u001b[0m in \u001b[0;36mget_loc\u001b[1;34m(self, key, method, tolerance)\u001b[0m\n\u001b[0;32m   3629\u001b[0m                 \u001b[1;32mreturn\u001b[0m \u001b[0mself\u001b[0m\u001b[1;33m.\u001b[0m\u001b[0m_engine\u001b[0m\u001b[1;33m.\u001b[0m\u001b[0mget_loc\u001b[0m\u001b[1;33m(\u001b[0m\u001b[0mcasted_key\u001b[0m\u001b[1;33m)\u001b[0m\u001b[1;33m\u001b[0m\u001b[1;33m\u001b[0m\u001b[0m\n\u001b[0;32m   3630\u001b[0m             \u001b[1;32mexcept\u001b[0m \u001b[0mKeyError\u001b[0m \u001b[1;32mas\u001b[0m \u001b[0merr\u001b[0m\u001b[1;33m:\u001b[0m\u001b[1;33m\u001b[0m\u001b[1;33m\u001b[0m\u001b[0m\n\u001b[1;32m-> 3631\u001b[1;33m                 \u001b[1;32mraise\u001b[0m \u001b[0mKeyError\u001b[0m\u001b[1;33m(\u001b[0m\u001b[0mkey\u001b[0m\u001b[1;33m)\u001b[0m \u001b[1;32mfrom\u001b[0m \u001b[0merr\u001b[0m\u001b[1;33m\u001b[0m\u001b[1;33m\u001b[0m\u001b[0m\n\u001b[0m\u001b[0;32m   3632\u001b[0m             \u001b[1;32mexcept\u001b[0m \u001b[0mTypeError\u001b[0m\u001b[1;33m:\u001b[0m\u001b[1;33m\u001b[0m\u001b[1;33m\u001b[0m\u001b[0m\n\u001b[0;32m   3633\u001b[0m                 \u001b[1;31m# If we have a listlike key, _check_indexing_error will raise\u001b[0m\u001b[1;33m\u001b[0m\u001b[1;33m\u001b[0m\u001b[0m\n",
      "\u001b[1;31mKeyError\u001b[0m: 'Actual'"
     ]
    }
   ],
   "source": [
    "# Function to convert input numpy array\n",
    "def np_arrary_converter (a):\n",
    "    number_list = a.split()\n",
    "    for i in range(len(number_list)):\n",
    "        number_list[i] = float(number_list[i])\n",
    "        \n",
    "    number_list_array = np.array(number_list)\n",
    "    \n",
    "    return number_list_array\n",
    "\n",
    "# Function to return RMSE\n",
    "def rmse (actual, predicted):\n",
    "    return np.mean(np.sqrt(((predicted-actual) ** 2)))\n",
    "\n",
    "# User input\n",
    "actual = input (\"Input actuals numbers\")\n",
    "predicted = input (\"Input equal number of predicted numbers\")\n",
    "\n",
    "\n",
    "# Call function to convert user input\n",
    "actual_list = np_arrary_converter(actual)\n",
    "predicted_list = np_arrary_converter(predicted)\n",
    "\n",
    "# Check input array length for equal size\n",
    "if len(actual_list) != len(predicted_list):\n",
    "    print(\"\\nPlease submit equal actuals and predicted values\")\n",
    "else:\n",
    "    print(\"\\nActual value:\", actual_list)\n",
    "    print(\"Predicted value:\", predicted_list,\"\\n\")\n",
    "    \n",
    "    result_rmse = rmse(actual_list, predicted_list)\n",
    "    \n",
    "    print(\"RMSE:\", result_rmse)\n",
    "\n",
    "\n",
    "\n",
    "home_actuals = df['Actual'].to_numpy()\n",
    "home_predicted = df['Predicted'].to_numpy()\n",
    "\n",
    "print(df)\n",
    "print(home_actuals)\n",
    "print(home_predicted)\n",
    "print(rmse(home_actuals,home_predicted))"
   ]
  },
  {
   "cell_type": "markdown",
   "id": "3f7b4284",
   "metadata": {},
   "source": [
    "## Calculating MAE"
   ]
  },
  {
   "cell_type": "code",
   "execution_count": 8,
   "id": "52e8e4ae",
   "metadata": {},
   "outputs": [
    {
     "name": "stdout",
     "output_type": "stream",
     "text": [
      "Input actuals numbers1 2 3 4\n",
      "Input equal number of predicted numbers3 4 5 6\n",
      "\n",
      "Actual value: [1. 2. 3. 4.]\n",
      "Predicted value: [3. 4. 5. 6.] \n",
      "\n",
      "MAE: 2.5\n"
     ]
    }
   ],
   "source": [
    "import numpy as np\n",
    "\n",
    "# Function to convert input numpy array\n",
    "def np_arrary_converter (a):\n",
    "    number_list = a.split()\n",
    "    for i in range(len(number_list)):\n",
    "        number_list[i] = float(number_list[i])\n",
    "        \n",
    "    number_list_array = np.array(number_list)\n",
    "    \n",
    "    return number_list_array\n",
    "\n",
    "# Function to return MAE\n",
    "def mae (actual, predicted):\n",
    "    return np.mean(np.abs(actual_list, predicted_list))\n",
    "\n",
    "# User input\n",
    "actual = input (\"Input actuals numbers\")\n",
    "predicted = input (\"Input equal number of predicted numbers\")\n",
    "\n",
    "\n",
    "# Call function to convert user input\n",
    "actual_list = np_arrary_converter(actual)\n",
    "predicted_list = np_arrary_converter(predicted)\n",
    "\n",
    "# Check input array length for equal size\n",
    "if len(actual_list) != len(predicted_list):\n",
    "    print(\"\\nPlease submit equal actuals and predicted values\")\n",
    "else:\n",
    "    print(\"\\nActual value:\", actual_list)\n",
    "    print(\"Predicted value:\", predicted_list,\"\\n\")\n",
    "    \n",
    "    result_mae = mae(actual_list, predicted_list)\n",
    "    \n",
    "    print(\"MAE:\", result_mae)"
   ]
  },
  {
   "cell_type": "markdown",
   "id": "6fddf66f",
   "metadata": {},
   "source": [
    "## Accuracy"
   ]
  },
  {
   "cell_type": "code",
   "execution_count": 9,
   "id": "cf4d1b18",
   "metadata": {},
   "outputs": [
    {
     "name": "stdout",
     "output_type": "stream",
     "text": [
      "1\n",
      "33.33333333333333\n"
     ]
    }
   ],
   "source": [
    "# accuracy function\n",
    "\n",
    "def accuracy(a,b):\n",
    "    x = 0\n",
    "    for i in range(len(a)):\n",
    "        if a[i] == b [i]:\n",
    "            x+=1\n",
    "    return x\n",
    "            \n",
    "p = [1, 2, 1]\n",
    "q = [1, 1, 3]\n",
    "\n",
    "n = len(p)\n",
    "\n",
    "match = accuracy(p,q)\n",
    "\n",
    "accuracy_percentage = match/n * 100\n",
    "\n",
    "print(match)\n",
    "print(accuracy_percentage)"
   ]
  },
  {
   "cell_type": "markdown",
   "id": "290b4320",
   "metadata": {},
   "source": [
    "## 4. The error function"
   ]
  },
  {
   "cell_type": "code",
   "execution_count": 19,
   "id": "4ea256c2",
   "metadata": {
    "scrolled": true
   },
   "outputs": [
    {
     "name": "stdout",
     "output_type": "stream",
     "text": [
      "[7, 8, 9, 10, 11, 12]\n",
      "[8.76600000000144, 9.92000000000371, 9.372000000004846, 9.0, 9.434000000004744, 11.856000000014319]\n",
      "minimum error is: 8.76600000000144\n"
     ]
    },
    {
     "data": {
      "image/png": "[encoded data removed]",
      "text/plain": [
       "<Figure size 640x480 with 1 Axes>"
      ]
     },
     "metadata": {},
     "output_type": "display_data"
    }
   ],
   "source": [
    "import matplotlib.pyplot as plt\n",
    "\n",
    "def function_p(p):\n",
    "    return (0.005 * pow(p,6)) - (0.27 * pow(p, 5)) + (5.998 * pow(p, 4)) - (69.919 * pow(p,3)) + (449.17 * pow(p,2)) - (1499.7 * p) + 2028\n",
    "\n",
    "actual = [7,8,9,10,11,12]\n",
    "\n",
    "output = [function_p(i) for i in actual]\n",
    "min_error = min(output)\n",
    "    \n",
    "print(actual)\n",
    "print(output)\n",
    "print(\"minimum error is:\", min_error)\n",
    "\n",
    "\n",
    " \n",
    "plt.plot(output, label = \"Actual\")\n",
    "plt.plot(actual, label = \"Output\")\n",
    "\n",
    "plt.title(\"Actual vs Output\")\n",
    "plt.legend()\n",
    "plt.show()\n"
   ]
  },
  {
   "cell_type": "code",
   "execution_count": null,
   "id": "1f5e17ff",
   "metadata": {},
   "outputs": [],
   "source": []
  }
 ],
 "metadata": {
  "kernelspec": {
   "display_name": "Python 3 (ipykernel)",
   "language": "python",
   "name": "python3"
  },
  "language_info": {
   "codemirror_mode": {
    "name": "ipython",
    "version": 3
   },
   "file_extension": ".py",
   "mimetype": "text/x-python",
   "name": "python",
   "nbconvert_exporter": "python",
   "pygments_lexer": "ipython3",
   "version": "3.9.13"
  }
 },
 "nbformat": 4,
 "nbformat_minor": 5
}
